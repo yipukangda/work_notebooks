{
 "cells": [
  {
   "cell_type": "markdown",
   "metadata": {},
   "source": [
    "### 下载vcftools\n",
    "> 下载命令\n",
    "\n",
    "\n",
    "`conda install vcftools`\n",
    "\n",
    "#### 准备文件\n",
    "- 家系vcf：trios.vcf\n",
    "\n",
    "#### 运行命令\n",
    "`vcftools --relatedness2 --vcf trios.vcf --out trios.vcftools`\n",
    "- 注：--out 参数是输入文件前缀，可以任意设置，例如示例中为trios.vcftools，输出对应关系文件为trios.vcftools.relatedness2"
   ]
  },
  {
   "cell_type": "markdown",
   "metadata": {},
   "source": [
    "#### 示例代码\n",
    "> 输入文件：trios.vcf\n",
    "\n",
    "> 输出文件：trios.test.relatedness2"
   ]
  },
  {
   "cell_type": "code",
   "execution_count": 2,
   "metadata": {},
   "outputs": [
    {
     "name": "stderr",
     "output_type": "stream",
     "text": [
      "\n",
      "VCFtools - 0.1.15\n",
      "(C) Adam Auton and Anthony Marcketta 2009\n",
      "\n",
      "Parameters as interpreted:\n",
      "\t--vcf trios.vcf\n",
      "\t--out trios.test\n",
      "\t--relatedness2\n",
      "\n",
      "After filtering, kept 3 out of 3 Individuals\n",
      "Outputting Individual Relatedness\n",
      "After filtering, kept 48642 out of a possible 48642 Sites\n",
      "Run Time = 1.00 seconds\n"
     ]
    }
   ],
   "source": [
    "vcftools --relatedness2 --vcf trios.vcf --out trios.test"
   ]
  },
  {
   "cell_type": "markdown",
   "metadata": {},
   "source": [
    "#### 运行结果展示"
   ]
  },
  {
   "cell_type": "code",
   "execution_count": 4,
   "metadata": {},
   "outputs": [
    {
     "data": {
      "text/html": [
       "<div>\n",
       "<style scoped>\n",
       "    .dataframe tbody tr th:only-of-type {\n",
       "        vertical-align: middle;\n",
       "    }\n",
       "\n",
       "    .dataframe tbody tr th {\n",
       "        vertical-align: top;\n",
       "    }\n",
       "\n",
       "    .dataframe thead th {\n",
       "        text-align: right;\n",
       "    }\n",
       "</style>\n",
       "<table border=\"1\" class=\"dataframe\">\n",
       "  <thead>\n",
       "    <tr style=\"text-align: right;\">\n",
       "      <th></th>\n",
       "      <th>INDV1</th>\n",
       "      <th>INDV2</th>\n",
       "      <th>N_AaAa</th>\n",
       "      <th>N_AAaa</th>\n",
       "      <th>N1_Aa</th>\n",
       "      <th>N2_Aa</th>\n",
       "      <th>RELATEDNESS_PHI</th>\n",
       "    </tr>\n",
       "  </thead>\n",
       "  <tbody>\n",
       "    <tr>\n",
       "      <th>0</th>\n",
       "      <td>HY18119189</td>\n",
       "      <td>HY18119189</td>\n",
       "      <td>22851</td>\n",
       "      <td>0</td>\n",
       "      <td>22851</td>\n",
       "      <td>22851</td>\n",
       "      <td>0.500000</td>\n",
       "    </tr>\n",
       "    <tr>\n",
       "      <th>1</th>\n",
       "      <td>HY18119189</td>\n",
       "      <td>HY18119190</td>\n",
       "      <td>12615</td>\n",
       "      <td>177</td>\n",
       "      <td>22851</td>\n",
       "      <td>22645</td>\n",
       "      <td>0.269496</td>\n",
       "    </tr>\n",
       "    <tr>\n",
       "      <th>2</th>\n",
       "      <td>HY18119189</td>\n",
       "      <td>HY18119191</td>\n",
       "      <td>13057</td>\n",
       "      <td>181</td>\n",
       "      <td>22851</td>\n",
       "      <td>22969</td>\n",
       "      <td>0.277062</td>\n",
       "    </tr>\n",
       "    <tr>\n",
       "      <th>3</th>\n",
       "      <td>HY18119190</td>\n",
       "      <td>HY18119189</td>\n",
       "      <td>12615</td>\n",
       "      <td>177</td>\n",
       "      <td>22645</td>\n",
       "      <td>22851</td>\n",
       "      <td>0.269496</td>\n",
       "    </tr>\n",
       "    <tr>\n",
       "      <th>4</th>\n",
       "      <td>HY18119190</td>\n",
       "      <td>HY18119190</td>\n",
       "      <td>22645</td>\n",
       "      <td>0</td>\n",
       "      <td>22645</td>\n",
       "      <td>22645</td>\n",
       "      <td>0.500000</td>\n",
       "    </tr>\n",
       "    <tr>\n",
       "      <th>5</th>\n",
       "      <td>HY18119190</td>\n",
       "      <td>HY18119191</td>\n",
       "      <td>9819</td>\n",
       "      <td>3368</td>\n",
       "      <td>22645</td>\n",
       "      <td>22969</td>\n",
       "      <td>0.067589</td>\n",
       "    </tr>\n",
       "    <tr>\n",
       "      <th>6</th>\n",
       "      <td>HY18119191</td>\n",
       "      <td>HY18119189</td>\n",
       "      <td>13057</td>\n",
       "      <td>181</td>\n",
       "      <td>22969</td>\n",
       "      <td>22851</td>\n",
       "      <td>0.277062</td>\n",
       "    </tr>\n",
       "    <tr>\n",
       "      <th>7</th>\n",
       "      <td>HY18119191</td>\n",
       "      <td>HY18119190</td>\n",
       "      <td>9819</td>\n",
       "      <td>3368</td>\n",
       "      <td>22969</td>\n",
       "      <td>22645</td>\n",
       "      <td>0.067589</td>\n",
       "    </tr>\n",
       "    <tr>\n",
       "      <th>8</th>\n",
       "      <td>HY18119191</td>\n",
       "      <td>HY18119191</td>\n",
       "      <td>22969</td>\n",
       "      <td>0</td>\n",
       "      <td>22969</td>\n",
       "      <td>22969</td>\n",
       "      <td>0.500000</td>\n",
       "    </tr>\n",
       "  </tbody>\n",
       "</table>\n",
       "</div>"
      ],
      "text/plain": [
       "        INDV1       INDV2  N_AaAa  N_AAaa  N1_Aa  N2_Aa  RELATEDNESS_PHI\n",
       "0  HY18119189  HY18119189   22851       0  22851  22851         0.500000\n",
       "1  HY18119189  HY18119190   12615     177  22851  22645         0.269496\n",
       "2  HY18119189  HY18119191   13057     181  22851  22969         0.277062\n",
       "3  HY18119190  HY18119189   12615     177  22645  22851         0.269496\n",
       "4  HY18119190  HY18119190   22645       0  22645  22645         0.500000\n",
       "5  HY18119190  HY18119191    9819    3368  22645  22969         0.067589\n",
       "6  HY18119191  HY18119189   13057     181  22969  22851         0.277062\n",
       "7  HY18119191  HY18119190    9819    3368  22969  22645         0.067589\n",
       "8  HY18119191  HY18119191   22969       0  22969  22969         0.500000"
      ]
     },
     "execution_count": 4,
     "metadata": {},
     "output_type": "execute_result"
    }
   ],
   "source": [
    "cat trios.test.relatedness2"
   ]
  }
 ],
 "metadata": {
  "kernelspec": {
   "display_name": "Python 3",
   "language": "python",
   "name": "python3"
  },
  "language_info": {
   "codemirror_mode": {
    "name": "ipython",
    "version": 3
   },
   "file_extension": ".py",
   "mimetype": "text/x-python",
   "name": "python",
   "nbconvert_exporter": "python",
   "pygments_lexer": "ipython3",
   "version": "3.7.1"
  }
 },
 "nbformat": 4,
 "nbformat_minor": 2
}
