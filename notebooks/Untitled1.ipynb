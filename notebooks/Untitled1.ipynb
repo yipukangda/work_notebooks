{
 "cells": [
  {
   "cell_type": "code",
   "execution_count": 1,
   "metadata": {},
   "outputs": [],
   "source": [
    "import pymc3 as pm"
   ]
  },
  {
   "cell_type": "code",
   "execution_count": 4,
   "metadata": {},
   "outputs": [],
   "source": [
    "def event_check(signal):\n",
    "    with pm.Model() as disaster_model:\n",
    "\n",
    "        switchpoint = pm.DiscreteUniform('switchpoint', lower=single.index.min(), upper=single.index.max())\n",
    "\n",
    "        # Priors for pre- and post-switch rates number of disasters\n",
    "        early_rate = pm.Normal('early_rate', )\n",
    "        late_rate = pm.Exponential('late_rate', 1)\n",
    "\n",
    "        # Allocate appropriate Poisson rates to years before and after current\n",
    "        rate = pm.math.switch(switchpoint >= years, early_rate, late_rate)\n",
    "\n",
    "        disasters = pm.Poisson('disasters', rate, observed=disaster_data)\n",
    "    return disaster_model"
   ]
  },
  {
   "cell_type": "code",
   "execution_count": null,
   "metadata": {},
   "outputs": [],
   "source": []
  }
 ],
 "metadata": {
  "kernelspec": {
   "display_name": "Python 3",
   "language": "python",
   "name": "python3"
  },
  "language_info": {
   "codemirror_mode": {
    "name": "ipython",
    "version": 3
   },
   "file_extension": ".py",
   "mimetype": "text/x-python",
   "name": "python",
   "nbconvert_exporter": "python",
   "pygments_lexer": "ipython3",
   "version": "3.7.1"
  }
 },
 "nbformat": 4,
 "nbformat_minor": 2
}
