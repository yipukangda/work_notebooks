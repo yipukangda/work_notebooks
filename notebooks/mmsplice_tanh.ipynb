{
 "cells": [
  {
   "cell_type": "code",
   "execution_count": 14,
   "metadata": {},
   "outputs": [
    {
     "name": "stderr",
     "output_type": "stream",
     "text": [
      "/home/jgs/softerwares/anaconda3/lib/python3.5/site-packages/IPython/core/interactiveshell.py:3018: DtypeWarning: Columns (6,8) have mixed types. Specify dtype option on import or set low_memory=False.\n",
      "  interactivity=interactivity, compiler=compiler, result=result)\n"
     ]
    }
   ],
   "source": [
    "df = pd.read_table('sp_abs15_tab_mmsplice_vcf_dbscSNV_chr.results')"
   ]
  },
  {
   "cell_type": "code",
   "execution_count": 3,
   "metadata": {},
   "outputs": [],
   "source": [
    "import pandas as pd\n",
    "import numpy as np"
   ]
  },
  {
   "cell_type": "code",
   "execution_count": 32,
   "metadata": {},
   "outputs": [
    {
     "data": {
      "text/html": [
       "<div>\n",
       "<style scoped>\n",
       "    .dataframe tbody tr th:only-of-type {\n",
       "        vertical-align: middle;\n",
       "    }\n",
       "\n",
       "    .dataframe tbody tr th {\n",
       "        vertical-align: top;\n",
       "    }\n",
       "\n",
       "    .dataframe thead th {\n",
       "        text-align: right;\n",
       "    }\n",
       "</style>\n",
       "<table border=\"1\" class=\"dataframe\">\n",
       "  <thead>\n",
       "    <tr style=\"text-align: right;\">\n",
       "      <th></th>\n",
       "      <th>mmsplice_delta_logit_psi</th>\n",
       "    </tr>\n",
       "  </thead>\n",
       "  <tbody>\n",
       "    <tr>\n",
       "      <th>240</th>\n",
       "      <td>0.997252</td>\n",
       "    </tr>\n",
       "    <tr>\n",
       "      <th>241</th>\n",
       "      <td>0.997252</td>\n",
       "    </tr>\n",
       "    <tr>\n",
       "      <th>242</th>\n",
       "      <td>0.997252</td>\n",
       "    </tr>\n",
       "    <tr>\n",
       "      <th>243</th>\n",
       "      <td>0.997252</td>\n",
       "    </tr>\n",
       "    <tr>\n",
       "      <th>244</th>\n",
       "      <td>0.997252</td>\n",
       "    </tr>\n",
       "  </tbody>\n",
       "</table>\n",
       "</div>"
      ],
      "text/plain": [
       "    mmsplice_delta_logit_psi\n",
       "240                 0.997252\n",
       "241                 0.997252\n",
       "242                 0.997252\n",
       "243                 0.997252\n",
       "244                 0.997252"
      ]
     },
     "execution_count": 32,
     "metadata": {},
     "output_type": "execute_result"
    }
   ],
   "source": [
    "ft.dropna().head()"
   ]
  },
  {
   "cell_type": "code",
   "execution_count": 31,
   "metadata": {},
   "outputs": [],
   "source": [
    "ft = ft.applymap(abslute)"
   ]
  },
  {
   "cell_type": "code",
   "execution_count": 27,
   "metadata": {},
   "outputs": [],
   "source": [
    "ft = df[['mmsplice_delta_logit_psi']].applymap(tanh)"
   ]
  },
  {
   "cell_type": "code",
   "execution_count": 25,
   "metadata": {},
   "outputs": [],
   "source": [
    "def tanh(x):\n",
    "    try:\n",
    "        x = abs(float(x))\n",
    "        return np.tanh(x)\n",
    "    except:\n",
    "        return x"
   ]
  },
  {
   "cell_type": "code",
   "execution_count": 30,
   "metadata": {},
   "outputs": [],
   "source": [
    "def abslute(x):\n",
    "    try:\n",
    "        return abs(x)\n",
    "    except:\n",
    "        return x"
   ]
  },
  {
   "cell_type": "code",
   "execution_count": 33,
   "metadata": {},
   "outputs": [],
   "source": [
    "df['mmsplice_delta_logit_psi_norm'] = ft"
   ]
  },
  {
   "cell_type": "code",
   "execution_count": 43,
   "metadata": {},
   "outputs": [
    {
     "data": {
      "text/html": [
       "<div>\n",
       "<style scoped>\n",
       "    .dataframe tbody tr th:only-of-type {\n",
       "        vertical-align: middle;\n",
       "    }\n",
       "\n",
       "    .dataframe tbody tr th {\n",
       "        vertical-align: top;\n",
       "    }\n",
       "\n",
       "    .dataframe thead th {\n",
       "        text-align: right;\n",
       "    }\n",
       "</style>\n",
       "<table border=\"1\" class=\"dataframe\">\n",
       "  <thead>\n",
       "    <tr style=\"text-align: right;\">\n",
       "      <th></th>\n",
       "      <th>##CHR</th>\n",
       "      <th>POS</th>\n",
       "      <th>REF</th>\n",
       "      <th>ALT</th>\n",
       "      <th>dpsi_zscore</th>\n",
       "      <th>mmsplice_delta_logit_psi</th>\n",
       "      <th>mmsplice_pathogenicity</th>\n",
       "      <th>ada_score</th>\n",
       "      <th>rf_score</th>\n",
       "      <th>mmsplice_delta_logit_psi_norm</th>\n",
       "    </tr>\n",
       "  </thead>\n",
       "  <tbody>\n",
       "    <tr>\n",
       "      <th>35195</th>\n",
       "      <td>chr1</td>\n",
       "      <td>102271630</td>\n",
       "      <td>A</td>\n",
       "      <td>C</td>\n",
       "      <td>-3.318sstart</td>\n",
       "      <td>NF</td>\n",
       "      <td>cds</td>\n",
       "      <td>0.999992076683048</td>\n",
       "      <td>0.938</td>\n",
       "      <td>NF</td>\n",
       "    </tr>\n",
       "    <tr>\n",
       "      <th>35196</th>\n",
       "      <td>chr1</td>\n",
       "      <td>102271630</td>\n",
       "      <td>A</td>\n",
       "      <td>G</td>\n",
       "      <td>-3.213sstart</td>\n",
       "      <td>NF</td>\n",
       "      <td>cds</td>\n",
       "      <td>0.995115213411831</td>\n",
       "      <td>0.67</td>\n",
       "      <td>NF</td>\n",
       "    </tr>\n",
       "    <tr>\n",
       "      <th>35197</th>\n",
       "      <td>chr1</td>\n",
       "      <td>102271630</td>\n",
       "      <td>A</td>\n",
       "      <td>T</td>\n",
       "      <td>-3.240sstart</td>\n",
       "      <td>NF</td>\n",
       "      <td>cds</td>\n",
       "      <td>0.999992076683048</td>\n",
       "      <td>0.938</td>\n",
       "      <td>NF</td>\n",
       "    </tr>\n",
       "    <tr>\n",
       "      <th>35198</th>\n",
       "      <td>chr1</td>\n",
       "      <td>102271631</td>\n",
       "      <td>C</td>\n",
       "      <td>A</td>\n",
       "      <td>-3.311sstart</td>\n",
       "      <td>NF</td>\n",
       "      <td>cds</td>\n",
       "      <td>0.999989528922238</td>\n",
       "      <td>0.936</td>\n",
       "      <td>NF</td>\n",
       "    </tr>\n",
       "    <tr>\n",
       "      <th>35199</th>\n",
       "      <td>chr1</td>\n",
       "      <td>102271631</td>\n",
       "      <td>C</td>\n",
       "      <td>G</td>\n",
       "      <td>-3.131sstart</td>\n",
       "      <td>NF</td>\n",
       "      <td>cds</td>\n",
       "      <td>0.999989528922238</td>\n",
       "      <td>0.936</td>\n",
       "      <td>NF</td>\n",
       "    </tr>\n",
       "  </tbody>\n",
       "</table>\n",
       "</div>"
      ],
      "text/plain": [
       "      ##CHR        POS REF ALT   dpsi_zscore mmsplice_delta_logit_psi  \\\n",
       "35195  chr1  102271630   A   C  -3.318sstart                       NF   \n",
       "35196  chr1  102271630   A   G  -3.213sstart                       NF   \n",
       "35197  chr1  102271630   A   T  -3.240sstart                       NF   \n",
       "35198  chr1  102271631   C   A  -3.311sstart                       NF   \n",
       "35199  chr1  102271631   C   G  -3.131sstart                       NF   \n",
       "\n",
       "      mmsplice_pathogenicity          ada_score rf_score  \\\n",
       "35195                    cds  0.999992076683048    0.938   \n",
       "35196                    cds  0.995115213411831     0.67   \n",
       "35197                    cds  0.999992076683048    0.938   \n",
       "35198                    cds  0.999989528922238    0.936   \n",
       "35199                    cds  0.999989528922238    0.936   \n",
       "\n",
       "      mmsplice_delta_logit_psi_norm  \n",
       "35195                            NF  \n",
       "35196                            NF  \n",
       "35197                            NF  \n",
       "35198                            NF  \n",
       "35199                            NF  "
      ]
     },
     "execution_count": 43,
     "metadata": {},
     "output_type": "execute_result"
    }
   ],
   "source": [
    "df.dropna().head()"
   ]
  },
  {
   "cell_type": "code",
   "execution_count": null,
   "metadata": {},
   "outputs": [],
   "source": [
    "df[df.mmsplice_delta_logit_psi_norm != '-'].dropna"
   ]
  },
  {
   "cell_type": "code",
   "execution_count": 35,
   "metadata": {},
   "outputs": [
    {
     "data": {
      "text/plain": [
       "count     15030435\n",
       "unique     1228590\n",
       "top            0.0\n",
       "freq        863248\n",
       "Name: ada_score, dtype: object"
      ]
     },
     "execution_count": 35,
     "metadata": {},
     "output_type": "execute_result"
    }
   ],
   "source": [
    "df.ada_score.describe()"
   ]
  },
  {
   "cell_type": "code",
   "execution_count": 39,
   "metadata": {},
   "outputs": [],
   "source": [
    "df.to_csv('sp_abs15_tab_mmsplice_vcf_dbscSNV_chr.norm.txt',sep='\\t', index=False)"
   ]
  }
 ],
 "metadata": {
  "kernelspec": {
   "display_name": "Python 3",
   "language": "python",
   "name": "python3"
  },
  "language_info": {
   "codemirror_mode": {
    "name": "ipython",
    "version": 3
   },
   "file_extension": ".py",
   "mimetype": "text/x-python",
   "name": "python",
   "nbconvert_exporter": "python",
   "pygments_lexer": "ipython3",
   "version": "3.5.2"
  }
 },
 "nbformat": 4,
 "nbformat_minor": 2
}
