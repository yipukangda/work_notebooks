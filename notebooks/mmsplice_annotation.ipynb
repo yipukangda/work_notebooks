{
 "cells": [
  {
   "cell_type": "markdown",
   "metadata": {},
   "source": [
    "#### data preprocessing"
   ]
  },
  {
   "cell_type": "code",
   "execution_count": 1,
   "metadata": {},
   "outputs": [],
   "source": [
    "import pandas as pd"
   ]
  },
  {
   "cell_type": "code",
   "execution_count": null,
   "metadata": {},
   "outputs": [],
   "source": [
    "%%bash \n",
    "\n",
    "cut -d$'\\t' -f1-4 spidex_public_noncommercial_v1_0.tab.abs_1.5 > spidex_cut.txt"
   ]
  },
  {
   "cell_type": "code",
   "execution_count": 16,
   "metadata": {},
   "outputs": [],
   "source": [
    "with open('spidex_cut.txt', 'r') as f:\n",
    "    with open('spidex_cut.vcf', 'w') as v:\n",
    "        for i in f.readlines():\n",
    "            l = i.split('\\t')\n",
    "            l.insert(2, '.')\n",
    "            v.write('\\t'.join(l))"
   ]
  },
  {
   "cell_type": "code",
   "execution_count": 8,
   "metadata": {},
   "outputs": [],
   "source": [
    "%%bash\n",
    "\n",
    "sed -i '1d;2i #CHROM\\tPOS\\tID\\tREF\\tALT' spidex_cut.vcf "
   ]
  },
  {
   "cell_type": "code",
   "execution_count": 9,
   "metadata": {},
   "outputs": [],
   "source": [
    "df = pd.read_table('spidex_cut.vcf')"
   ]
  },
  {
   "cell_type": "code",
   "execution_count": 11,
   "metadata": {},
   "outputs": [],
   "source": [
    "gp = df.groupby('#CHROM')\n",
    "for n,g in gp:\n",
    "    g.to_csv('./spidex_tmp_dir/spidex_%s.vcf'%(n), index=False, sep='\\t')"
   ]
  },
  {
   "cell_type": "markdown",
   "metadata": {},
   "source": [
    "#### mmsplice annotation"
   ]
  },
  {
   "cell_type": "code",
   "execution_count": null,
   "metadata": {},
   "outputs": [],
   "source": [
    "%%bash \n",
    "\n",
    "docker run -v ~/biodatabases:/biodatabases -v /data:/data -it ac604aad4bf7 bash"
   ]
  },
  {
   "cell_type": "code",
   "execution_count": null,
   "metadata": {},
   "outputs": [],
   "source": [
    "#bash in docker\n",
    "%%bash\n",
    "\n",
    "parallel -j 6 '/home/bioapps/ensembl-vep/vep -i /data/mmsplic_tmp/{}.vcf --plugin MMSplice --vcf --force --assembly GRCh37 --cache --port 3337 -o /data/mmsplic_tmp/output/{}_mmsplice.vcf —pick' :::: <(ls /data/mmsplic_tmp | grep vcf |cut -d'.' -f1)"
   ]
  },
  {
   "cell_type": "markdown",
   "metadata": {},
   "source": [
    "#### SpliceAI annotation"
   ]
  },
  {
   "cell_type": "code",
   "execution_count": null,
   "metadata": {},
   "outputs": [],
   "source": [
    "%%bash\n",
    "\n",
    "parallel -j 3 'spliceai -I /data/mmsplic_tmp/{}.vcf -O /data/mmsplic_tmp/splicai_output/{}_spliceai.vcf -R ~/biodatabases/human_g1k_v37.fasta -A grch37' :::: <(ls /data/mmsplic_tmp | grep vcf |cut -d'.' -f1)"
   ]
  }
 ],
 "metadata": {
  "kernelspec": {
   "display_name": "Python 3",
   "language": "python",
   "name": "python3"
  },
  "language_info": {
   "codemirror_mode": {
    "name": "ipython",
    "version": 3
   },
   "file_extension": ".py",
   "mimetype": "text/x-python",
   "name": "python",
   "nbconvert_exporter": "python",
   "pygments_lexer": "ipython3",
   "version": "3.7.1"
  }
 },
 "nbformat": 4,
 "nbformat_minor": 2
}
