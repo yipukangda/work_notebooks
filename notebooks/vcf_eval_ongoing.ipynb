{
 "cells": [
  {
   "cell_type": "markdown",
   "metadata": {},
   "source": [
    "#### generate statistical data of gatk & vardict\n",
    "\n",
    "> tools: \n",
    ">> gatk VariantEval\n",
    "\n",
    ">> picard CollectVariantCallingMetrics\n",
    "\n",
    "#### some bugs with vardict vcf, may be compartibility reason"
   ]
  },
  {
   "cell_type": "code",
   "execution_count": null,
   "metadata": {},
   "outputs": [],
   "source": [
    "%%bash \n",
    "\n",
    "picard -Xmx2048m CollectVariantCallingMetrics \\\n",
    "I=/mnt/data_sata_2t/vsftpd/wxq/ftp/files/0306/HY19020837.vardict.vcf.gz \\\n",
    "O=/mnt/data_sata_2t/vsftpd/wxq/ftp/files/0306/HY19020837.vardict.metrics \\\n",
    "DBSNP=/home/jgs/database/gatk_bundle/GRCh37/ftp.broadinstitute.org/bundle/b37/dbsnp_138.b37.vcf \\\n",
    "TI=/mnt/data_sata_2t/vsftpd/wxq/ftp/files/0306/target.interval_list\n",
    "\n",
    "picard -Xmx2048m CollectVariantCallingMetrics \\\n",
    "I=/mnt/data_sata_2t/vsftpd/wxq/ftp/files/0306/HY19020837.vcf.gz \\\n",
    "O=/mnt/data_sata_2t/vsftpd/wxq/ftp/files/0306/HY19020837.gatk.metrics \\\n",
    "DBSNP=/home/jgs/database/gatk_bundle/GRCh37/ftp.broadinstitute.org/bundle/b37/dbsnp_138.b37.vcf \\\n",
    "TI=/mnt/data_sata_2t/vsftpd/wxq/ftp/files/0306/target.interval_list"
   ]
  },
  {
   "cell_type": "code",
   "execution_count": null,
   "metadata": {},
   "outputs": [],
   "source": [
    "%%bash\n",
    "\n",
    "gatk VariantEval \\\n",
    "--eval HY19020837.vcf.gz \\\n",
    "--eval HY19020837.vcf.gz \\\n",
    "-R ~/database/gatk_bundle/b37/human_g1k_v37.fasta \\\n",
    "-O ./compare.tab"
   ]
  }
 ],
 "metadata": {
  "kernelspec": {
   "display_name": "Python 3",
   "language": "python",
   "name": "python3"
  },
  "language_info": {
   "codemirror_mode": {
    "name": "ipython",
    "version": 3
   },
   "file_extension": ".py",
   "mimetype": "text/x-python",
   "name": "python",
   "nbconvert_exporter": "python",
   "pygments_lexer": "ipython3",
   "version": "3.7.1"
  }
 },
 "nbformat": 4,
 "nbformat_minor": 2
}
