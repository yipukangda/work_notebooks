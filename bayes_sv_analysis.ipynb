{
 "cells": [
  {
   "cell_type": "markdown",
   "metadata": {},
   "source": [
    "### generate sv file by graph genome tool\n",
    "\n",
    "#### extract r\n",
    "\n",
    "1. An unmapped read whose mate is mapped.\n",
    "2. A mapped read who’s mate is unmapped\n",
    "3. Both reads of the pair are unmapped\n",
    "\n",
    "These categories translate to the following filtering commands:"
   ]
  },
  {
   "cell_type": "code",
   "execution_count": null,
   "metadata": {},
   "outputs": [],
   "source": [
    "%bash \n",
    "\n",
    "#one version\n",
    "samtools view -u  -f 4 -F264 alignments.bam  > tmps1.bam\n",
    "samtools view -u -f 8 -F 260 alignments.bam  > tmps2.bam\n",
    "samtools view -u -f 12 -F 256 alignments.bam > tmps3.bam\n",
    "\n",
    "#an alternativ one\n",
    "samtools view -b -F 4 -f 8 file.bam > onlyThisEndMapped.bam\n",
    "samtools view -b -F 8 -f 4 file.bam > onlyThatEndMapped.bam\n",
    "samtools view -b -F12 file.bam > bothEndsMapped.bam\n",
    "\n",
    "samtools merge merged.bam onlyThisEndMapped.bam onlyThatEndMapped.bam bothEndsMapped.bam\n",
    "\n",
    "bedtools bamtofastq -i merged.bam -fq fragment_1.fastq.gz -fq2 fragment_2.fastq.gz"
   ]
  },
  {
   "cell_type": "markdown",
   "metadata": {},
   "source": [
    "### graph genome build index with hgmd sv data "
   ]
  },
  {
   "cell_type": "code",
   "execution_count": null,
   "metadata": {},
   "outputs": [],
   "source": [
    "%bash \n",
    "\n",
    "/usr/local/bin/aligner --vcf [HGMD.sv.vcf.gz] -reference human_g1k_v37_decoy.fasta -q fragment_1.fastq.gz -Q fragment_2.fastq.gz -o sample.bam --read_group_sample 'SAMPLE_READ_GROUP' --read_group_library 'lib' --threads 4\n",
    "\n",
    "samtools sort sample.bam > sample.sort.bam  samtools index sample.sort.bam\n",
    "\n",
    "/usr/local/bin/reassembly_variant_caller -b sample.sort.bam -f human_g1k_v37_decoy.fasta -g SBG.Graph.B37.V6.rc6.vcf.gz -v results.vcf\n"
   ]
  },
  {
   "cell_type": "markdown",
   "metadata": {},
   "source": [
    "Support   \n",
    ">:math:`x \\in \\mathbb{R}`\n",
    "> Mean      :math:`\\mu`\n",
    "> Variance  :math:`\\dfrac{1}{\\tau}` or :math:`\\sigma^2`"
   ]
  },
  {
   "cell_type": "code",
   "execution_count": null,
   "metadata": {},
   "outputs": [],
   "source": []
  }
 ],
 "metadata": {
  "kernelspec": {
   "display_name": "Python 3",
   "language": "python",
   "name": "python3"
  },
  "language_info": {
   "codemirror_mode": {
    "name": "ipython",
    "version": 3
   },
   "file_extension": ".py",
   "mimetype": "text/x-python",
   "name": "python",
   "nbconvert_exporter": "python",
   "pygments_lexer": "ipython3",
   "version": "3.7.1"
  }
 },
 "nbformat": 4,
 "nbformat_minor": 2
}
